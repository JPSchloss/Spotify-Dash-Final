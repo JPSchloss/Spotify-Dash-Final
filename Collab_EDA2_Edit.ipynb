{
 "cells": [
  {
   "cell_type": "markdown",
   "metadata": {},
   "source": [
    "# Spotify Collaborations Extended EDA "
   ]
  },
  {
   "cell_type": "markdown",
   "metadata": {},
   "source": [
    "### Initial Set Up"
   ]
  },
  {
   "cell_type": "markdown",
   "metadata": {},
   "source": [
    "#### Importing Packages"
   ]
  },
  {
   "cell_type": "code",
   "execution_count": 1,
   "metadata": {},
   "outputs": [],
   "source": [
    "# Load relevant packages\n",
    "import pandas as pd\n",
    "import numpy as np\n",
    "import matplotlib.pyplot as plt\n",
    "import seaborn as sns"
   ]
  },
  {
   "cell_type": "markdown",
   "metadata": {},
   "source": [
    "#### Importing Dataset"
   ]
  },
  {
   "cell_type": "code",
   "execution_count": 5,
   "metadata": {},
   "outputs": [
    {
     "data": {
      "text/html": [
       "<div>\n",
       "<style scoped>\n",
       "    .dataframe tbody tr th:only-of-type {\n",
       "        vertical-align: middle;\n",
       "    }\n",
       "\n",
       "    .dataframe tbody tr th {\n",
       "        vertical-align: top;\n",
       "    }\n",
       "\n",
       "    .dataframe thead th {\n",
       "        text-align: right;\n",
       "    }\n",
       "</style>\n",
       "<table border=\"1\" class=\"dataframe\">\n",
       "  <thead>\n",
       "    <tr style=\"text-align: right;\">\n",
       "      <th></th>\n",
       "      <th>Unnamed: 0</th>\n",
       "      <th>Date</th>\n",
       "      <th>Track Name</th>\n",
       "      <th>Streams</th>\n",
       "      <th>Position</th>\n",
       "      <th>Artist Name</th>\n",
       "      <th>Artist No.</th>\n",
       "      <th>No. of Artists</th>\n",
       "      <th>Artist Genre</th>\n",
       "      <th>Track URI</th>\n",
       "      <th>...</th>\n",
       "      <th>Song_consec_day</th>\n",
       "      <th>Artist_first_onchart</th>\n",
       "      <th>Artist_cumu_songs</th>\n",
       "      <th>Artist_cumu_collab</th>\n",
       "      <th>Artist_cumu_solo</th>\n",
       "      <th>Artist_days_onchart</th>\n",
       "      <th>Collab_avg_days_onchart</th>\n",
       "      <th>Collab_avg_cumu_songs</th>\n",
       "      <th>Collab_avg_cumu_collab</th>\n",
       "      <th>Collab_avg_cumu_solo</th>\n",
       "    </tr>\n",
       "  </thead>\n",
       "  <tbody>\n",
       "    <tr>\n",
       "      <th>0</th>\n",
       "      <td>0</td>\n",
       "      <td>2017-01-01</td>\n",
       "      <td>Lighthouse - Andrelli Remix</td>\n",
       "      <td>149929</td>\n",
       "      <td>183</td>\n",
       "      <td>Hearts &amp; Colors</td>\n",
       "      <td>1</td>\n",
       "      <td>2</td>\n",
       "      <td>['post-teen pop', 'viral pop']</td>\n",
       "      <td>04CttTezSnv71USiiG9mIo</td>\n",
       "      <td>...</td>\n",
       "      <td>1</td>\n",
       "      <td>2017-01-01</td>\n",
       "      <td>1</td>\n",
       "      <td>1</td>\n",
       "      <td>0</td>\n",
       "      <td>1</td>\n",
       "      <td>1.0</td>\n",
       "      <td>1.000000</td>\n",
       "      <td>1.000000</td>\n",
       "      <td>0.0</td>\n",
       "    </tr>\n",
       "    <tr>\n",
       "      <th>1</th>\n",
       "      <td>1</td>\n",
       "      <td>2017-01-01</td>\n",
       "      <td>Lighthouse - Andrelli Remix</td>\n",
       "      <td>149929</td>\n",
       "      <td>183</td>\n",
       "      <td>Andrelli</td>\n",
       "      <td>2</td>\n",
       "      <td>2</td>\n",
       "      <td>['swedish pop']</td>\n",
       "      <td>04CttTezSnv71USiiG9mIo</td>\n",
       "      <td>...</td>\n",
       "      <td>1</td>\n",
       "      <td>2017-01-01</td>\n",
       "      <td>1</td>\n",
       "      <td>1</td>\n",
       "      <td>0</td>\n",
       "      <td>1</td>\n",
       "      <td>1.0</td>\n",
       "      <td>1.000000</td>\n",
       "      <td>1.000000</td>\n",
       "      <td>0.0</td>\n",
       "    </tr>\n",
       "    <tr>\n",
       "      <th>2</th>\n",
       "      <td>2</td>\n",
       "      <td>2017-01-01</td>\n",
       "      <td>In the Name of Love</td>\n",
       "      <td>435945</td>\n",
       "      <td>27</td>\n",
       "      <td>Martin Garrix</td>\n",
       "      <td>1</td>\n",
       "      <td>2</td>\n",
       "      <td>['big room', 'dance pop', 'edm', 'electro hous...</td>\n",
       "      <td>04DwTuZ2VBdJCCC5TROn7L</td>\n",
       "      <td>...</td>\n",
       "      <td>1</td>\n",
       "      <td>2017-01-01</td>\n",
       "      <td>1</td>\n",
       "      <td>1</td>\n",
       "      <td>0</td>\n",
       "      <td>1</td>\n",
       "      <td>1.0</td>\n",
       "      <td>2.000000</td>\n",
       "      <td>1.500000</td>\n",
       "      <td>0.5</td>\n",
       "    </tr>\n",
       "    <tr>\n",
       "      <th>3</th>\n",
       "      <td>3</td>\n",
       "      <td>2017-01-01</td>\n",
       "      <td>In the Name of Love</td>\n",
       "      <td>435945</td>\n",
       "      <td>27</td>\n",
       "      <td>Bebe Rexha</td>\n",
       "      <td>2</td>\n",
       "      <td>2</td>\n",
       "      <td>['dance pop', 'electropop', 'pop', 'pop dance'...</td>\n",
       "      <td>04DwTuZ2VBdJCCC5TROn7L</td>\n",
       "      <td>...</td>\n",
       "      <td>1</td>\n",
       "      <td>2017-01-01</td>\n",
       "      <td>3</td>\n",
       "      <td>2</td>\n",
       "      <td>1</td>\n",
       "      <td>1</td>\n",
       "      <td>1.0</td>\n",
       "      <td>2.000000</td>\n",
       "      <td>1.500000</td>\n",
       "      <td>0.5</td>\n",
       "    </tr>\n",
       "    <tr>\n",
       "      <th>4</th>\n",
       "      <td>4</td>\n",
       "      <td>2017-01-01</td>\n",
       "      <td>Party</td>\n",
       "      <td>151474</td>\n",
       "      <td>178</td>\n",
       "      <td>Chris Brown</td>\n",
       "      <td>1</td>\n",
       "      <td>3</td>\n",
       "      <td>['dance pop', 'pop', 'pop rap', 'r&amp;b', 'rap']</td>\n",
       "      <td>05Z7jet4VDNVgNQWcYHnrk</td>\n",
       "      <td>...</td>\n",
       "      <td>1</td>\n",
       "      <td>2017-01-01</td>\n",
       "      <td>1</td>\n",
       "      <td>1</td>\n",
       "      <td>0</td>\n",
       "      <td>1</td>\n",
       "      <td>1.0</td>\n",
       "      <td>1.666667</td>\n",
       "      <td>1.666667</td>\n",
       "      <td>0.0</td>\n",
       "    </tr>\n",
       "  </tbody>\n",
       "</table>\n",
       "<p>5 rows × 33 columns</p>\n",
       "</div>"
      ],
      "text/plain": [
       "   Unnamed: 0        Date                   Track Name  Streams  Position  \\\n",
       "0           0  2017-01-01  Lighthouse - Andrelli Remix   149929       183   \n",
       "1           1  2017-01-01  Lighthouse - Andrelli Remix   149929       183   \n",
       "2           2  2017-01-01          In the Name of Love   435945        27   \n",
       "3           3  2017-01-01          In the Name of Love   435945        27   \n",
       "4           4  2017-01-01                        Party   151474       178   \n",
       "\n",
       "       Artist Name  Artist No.  No. of Artists  \\\n",
       "0  Hearts & Colors           1               2   \n",
       "1         Andrelli           2               2   \n",
       "2    Martin Garrix           1               2   \n",
       "3       Bebe Rexha           2               2   \n",
       "4      Chris Brown           1               3   \n",
       "\n",
       "                                        Artist Genre               Track URI  \\\n",
       "0                     ['post-teen pop', 'viral pop']  04CttTezSnv71USiiG9mIo   \n",
       "1                                    ['swedish pop']  04CttTezSnv71USiiG9mIo   \n",
       "2  ['big room', 'dance pop', 'edm', 'electro hous...  04DwTuZ2VBdJCCC5TROn7L   \n",
       "3  ['dance pop', 'electropop', 'pop', 'pop dance'...  04DwTuZ2VBdJCCC5TROn7L   \n",
       "4      ['dance pop', 'pop', 'pop rap', 'r&b', 'rap']  05Z7jet4VDNVgNQWcYHnrk   \n",
       "\n",
       "   ... Song_consec_day Artist_first_onchart Artist_cumu_songs  \\\n",
       "0  ...               1           2017-01-01                 1   \n",
       "1  ...               1           2017-01-01                 1   \n",
       "2  ...               1           2017-01-01                 1   \n",
       "3  ...               1           2017-01-01                 3   \n",
       "4  ...               1           2017-01-01                 1   \n",
       "\n",
       "   Artist_cumu_collab Artist_cumu_solo Artist_days_onchart  \\\n",
       "0                   1                0                   1   \n",
       "1                   1                0                   1   \n",
       "2                   1                0                   1   \n",
       "3                   2                1                   1   \n",
       "4                   1                0                   1   \n",
       "\n",
       "   Collab_avg_days_onchart  Collab_avg_cumu_songs Collab_avg_cumu_collab  \\\n",
       "0                      1.0               1.000000               1.000000   \n",
       "1                      1.0               1.000000               1.000000   \n",
       "2                      1.0               2.000000               1.500000   \n",
       "3                      1.0               2.000000               1.500000   \n",
       "4                      1.0               1.666667               1.666667   \n",
       "\n",
       "   Collab_avg_cumu_solo  \n",
       "0                   0.0  \n",
       "1                   0.0  \n",
       "2                   0.5  \n",
       "3                   0.5  \n",
       "4                   0.0  \n",
       "\n",
       "[5 rows x 33 columns]"
      ]
     },
     "execution_count": 5,
     "metadata": {},
     "output_type": "execute_result"
    }
   ],
   "source": [
    "top_us = pd.read_csv(\"../data/2021.01.04 spotify_us_collab_fe.csv\")\n",
    "top_us.head()"
   ]
  },
  {
   "cell_type": "markdown",
   "metadata": {},
   "source": [
    "#### Basic Information For Each Column"
   ]
  },
  {
   "cell_type": "code",
   "execution_count": 33,
   "metadata": {},
   "outputs": [
    {
     "name": "stdout",
     "output_type": "stream",
     "text": [
      "<class 'pandas.core.frame.DataFrame'>\n",
      "RangeIndex: 273601 entries, 0 to 273600\n",
      "Data columns (total 33 columns):\n",
      " #   Column                   Non-Null Count   Dtype  \n",
      "---  ------                   --------------   -----  \n",
      " 0   Unnamed: 0               273601 non-null  int64  \n",
      " 1   Date                     273601 non-null  object \n",
      " 2   Track Name               273601 non-null  object \n",
      " 3   Streams                  273601 non-null  int64  \n",
      " 4   Position                 273601 non-null  int64  \n",
      " 5   Artist Name              273601 non-null  object \n",
      " 6   Artist No.               273601 non-null  int64  \n",
      " 7   No. of Artists           273601 non-null  int64  \n",
      " 8   Artist Genre             273601 non-null  object \n",
      " 9   Track URI                273601 non-null  object \n",
      " 10  Country                  273601 non-null  object \n",
      " 11  Artist URI               273601 non-null  object \n",
      " 12  Album URI                273601 non-null  object \n",
      " 13  Album_release_month      273601 non-null  int64  \n",
      " 14  Album_release_dayweek    273601 non-null  object \n",
      " 15  Album Release            273601 non-null  object \n",
      " 16  Year_chart               273601 non-null  int64  \n",
      " 17  Month_chart              273601 non-null  int64  \n",
      " 18  Song_first_onchart       273601 non-null  object \n",
      " 19  Song_days_since_first    273601 non-null  int64  \n",
      " 20  Song_days_onchart        273601 non-null  int64  \n",
      " 21  Song_days_since_release  273601 non-null  int64  \n",
      " 22  Song_streak_id           273601 non-null  int64  \n",
      " 23  Song_consec_day          273601 non-null  int64  \n",
      " 24  Artist_first_onchart     273601 non-null  object \n",
      " 25  Artist_cumu_songs        273601 non-null  int64  \n",
      " 26  Artist_cumu_collab       273601 non-null  int64  \n",
      " 27  Artist_cumu_solo         273601 non-null  int64  \n",
      " 28  Artist_days_onchart      273601 non-null  int64  \n",
      " 29  Collab_avg_days_onchart  273601 non-null  float64\n",
      " 30  Collab_avg_cumu_songs    273601 non-null  float64\n",
      " 31  Collab_avg_cumu_collab   273601 non-null  float64\n",
      " 32  Collab_avg_cumu_solo     273601 non-null  float64\n",
      "dtypes: float64(4), int64(17), object(12)\n",
      "memory usage: 68.9+ MB\n"
     ]
    }
   ],
   "source": [
    "top_us.info()"
   ]
  },
  {
   "cell_type": "markdown",
   "metadata": {},
   "source": [
    "#### Checking For Any Nulls"
   ]
  },
  {
   "cell_type": "code",
   "execution_count": 7,
   "metadata": {},
   "outputs": [
    {
     "data": {
      "text/plain": [
       "Unnamed: 0                 False\n",
       "Date                       False\n",
       "Track Name                 False\n",
       "Streams                    False\n",
       "Position                   False\n",
       "Artist Name                False\n",
       "Artist No.                 False\n",
       "No. of Artists             False\n",
       "Artist Genre               False\n",
       "Track URI                  False\n",
       "Country                    False\n",
       "Artist URI                 False\n",
       "Album URI                  False\n",
       "Album_release_month        False\n",
       "Album_release_dayweek      False\n",
       "Album Release              False\n",
       "Year_chart                 False\n",
       "Month_chart                False\n",
       "Song_first_onchart         False\n",
       "Song_days_since_first      False\n",
       "Song_days_onchart          False\n",
       "Song_days_since_release    False\n",
       "Song_streak_id             False\n",
       "Song_consec_day            False\n",
       "Artist_first_onchart       False\n",
       "Artist_cumu_songs          False\n",
       "Artist_cumu_collab         False\n",
       "Artist_cumu_solo           False\n",
       "Artist_days_onchart        False\n",
       "Collab_avg_days_onchart    False\n",
       "Collab_avg_cumu_songs      False\n",
       "Collab_avg_cumu_collab     False\n",
       "Collab_avg_cumu_solo       False\n",
       "dtype: bool"
      ]
     },
     "execution_count": 7,
     "metadata": {},
     "output_type": "execute_result"
    }
   ],
   "source": [
    "top_us.isnull().any()"
   ]
  },
  {
   "cell_type": "markdown",
   "metadata": {},
   "source": [
    "### Variables\n",
    "1. **Date**: The date a given song appears on the Top 200 chart.\n",
    "2. **Track Name**: Name of the track/song.\n",
    "3. **Streams**: Number of streams on a given Date.\n",
    "4. **Position**: Ranking according to number of streams in a region.\n",
    "5. **Artist Name**: Name of the main artist.\n",
    "6. **Artist No.**: The index of the collaborator for the given song when the dataframe is in long format (purely for stacking/unstacking/pivoting purposes). Collaborator No. 1 is usually the main artist.\n",
    "7. **No. of Artists**: Number of distinct artists credited for a given song\n",
    "8. **Artist Genre**: \n",
    "9. **Track URI**: Spotify's unique identifier for the song\n",
    "10. **Country**: The country of the chart. This project uses the U.S. charts only\n",
    "11. **Artist URI**: Spotify's unique identifier for the artist(s)\n",
    "12. **Album URI**: Spotify's unique identifier for the album to which the song belongs\n",
    "13. **Album_release_month**: The month component of Album Release date\n",
    "14. **Album_release_dayweek**: The day of the week of the Album Release date\n",
    "15. **Album Release**: The album's release date (may not always be accurate to the day)\n",
    "16. **Year_chart**: The year component of Date\n",
    "17. **Month_chart**: The month component of Date\n",
    "18. **Song_first_onchart**: The earliest day a given song appears in a given country's chart\n",
    "19. **Song_days_since_first**: The number of days elapsed between Song_first_onchart and the current Date\n",
    "20. **Song_days_onchart**: The number of days the song has appeared on the chart in the given country\n",
    "21. **Song_days_since_release**: The number of days elapsed between Album Release and the current chart date. CAUTION: because the Album release date is not always accurate to the day level, it is possible that the song may reach the chart before it is officially considered \"released\" by Spotify, leading to negative values for Song_days_since_release. Use with caution.\n",
    "22. **Song_streak_id**: Unique identifier of a given song's streak in a given country\n",
    "23. **Song_consec_day**: Unique identifier of a day within a unique streak id\n",
    "24. **Artist_first_onchart**: The earliest day a given artist appears in a given country's chart\n",
    "25. **Artist_cumu_songs**: The given artist's cumulative total number of songs up until the current Date\n",
    "26. **Artist_cumu_collab**: The given artist's cumulative total number of collaborative songs up until the current date\n",
    "27. **Artist_cumu_solo**: The given artist's cumulative total number of solo songs up until the current date\n",
    "28. **Artist_days_onchart**: The given artist's cumulative number of days/appearance on a given country's chart up until the current Date\n",
    "29. **Collab_avg_days_onchart**: The average number of days spent on the chart of all the collaborators credited in the song (up until the current date)\n",
    "30. **Collab_avg_cumu_songs**: The average number of songs of each collaborator credited in the song (up until the current date)\n",
    "31. **Collab_avg_cumu_collab**:The average number of collaborative songs of all the collaborators credited in the song (up until the current date)\n",
    "32. **Collab_avg_cumu_solo**: The average number of solo songs of all the collaborators credited in the song (up until the current date)\n",
    "33. **Day_week**: Day of the week, in 3-letter abbreviation\n",
    "34. **Week_id_BB**: The ID of the week within a year, but resets on a Tuesday to match with Billboard's week.\n",
    "35. **Week_mean_streams**: The mean number of streams for a given Year_week_id for a given country."
   ]
  },
  {
   "cell_type": "markdown",
   "metadata": {},
   "source": [
    "### Marginal distributions of key quantities of interest\n",
    "We start investigating by gaining an overhead view of various parameters in our data. Let's start by doing so for some numeric variables, such as ```Position```, ```Streams```, ```No. of Artists```, ``` Artist Genre```, ```Collab_avg_days_onchart```, ```Collab_avg_cumu_songs```, and ```Song_days_since_release```."
   ]
  },
  {
   "cell_type": "code",
   "execution_count": 35,
   "metadata": {},
   "outputs": [
    {
     "data": {
      "text/html": [
       "<div>\n",
       "<style scoped>\n",
       "    .dataframe tbody tr th:only-of-type {\n",
       "        vertical-align: middle;\n",
       "    }\n",
       "\n",
       "    .dataframe tbody tr th {\n",
       "        vertical-align: top;\n",
       "    }\n",
       "\n",
       "    .dataframe thead th {\n",
       "        text-align: right;\n",
       "    }\n",
       "</style>\n",
       "<table border=\"1\" class=\"dataframe\">\n",
       "  <thead>\n",
       "    <tr style=\"text-align: right;\">\n",
       "      <th></th>\n",
       "      <th>Position</th>\n",
       "      <th>Streams</th>\n",
       "      <th>No. of Artists</th>\n",
       "      <th>Collab_avg_days_onchart</th>\n",
       "      <th>Collab_avg_cumu_songs</th>\n",
       "      <th>Song_days_onchart</th>\n",
       "    </tr>\n",
       "  </thead>\n",
       "  <tbody>\n",
       "    <tr>\n",
       "      <th>count</th>\n",
       "      <td>273601.000000</td>\n",
       "      <td>2.736010e+05</td>\n",
       "      <td>273601.000000</td>\n",
       "      <td>273601.000000</td>\n",
       "      <td>273601.000000</td>\n",
       "      <td>273601.000000</td>\n",
       "    </tr>\n",
       "    <tr>\n",
       "      <th>mean</th>\n",
       "      <td>97.780392</td>\n",
       "      <td>3.967226e+05</td>\n",
       "      <td>2.571091</td>\n",
       "      <td>396.859248</td>\n",
       "      <td>29.508039</td>\n",
       "      <td>111.680973</td>\n",
       "    </tr>\n",
       "    <tr>\n",
       "      <th>std</th>\n",
       "      <td>57.674022</td>\n",
       "      <td>2.654753e+05</td>\n",
       "      <td>0.991199</td>\n",
       "      <td>282.705348</td>\n",
       "      <td>27.870607</td>\n",
       "      <td>138.674204</td>\n",
       "    </tr>\n",
       "    <tr>\n",
       "      <th>min</th>\n",
       "      <td>1.000000</td>\n",
       "      <td>1.254840e+05</td>\n",
       "      <td>2.000000</td>\n",
       "      <td>1.000000</td>\n",
       "      <td>1.000000</td>\n",
       "      <td>1.000000</td>\n",
       "    </tr>\n",
       "    <tr>\n",
       "      <th>25%</th>\n",
       "      <td>48.000000</td>\n",
       "      <td>2.367290e+05</td>\n",
       "      <td>2.000000</td>\n",
       "      <td>169.000000</td>\n",
       "      <td>9.000000</td>\n",
       "      <td>21.000000</td>\n",
       "    </tr>\n",
       "    <tr>\n",
       "      <th>50%</th>\n",
       "      <td>96.000000</td>\n",
       "      <td>3.039440e+05</td>\n",
       "      <td>2.000000</td>\n",
       "      <td>348.000000</td>\n",
       "      <td>20.666667</td>\n",
       "      <td>63.000000</td>\n",
       "    </tr>\n",
       "    <tr>\n",
       "      <th>75%</th>\n",
       "      <td>148.000000</td>\n",
       "      <td>4.590750e+05</td>\n",
       "      <td>3.000000</td>\n",
       "      <td>570.500000</td>\n",
       "      <td>41.500000</td>\n",
       "      <td>150.000000</td>\n",
       "    </tr>\n",
       "    <tr>\n",
       "      <th>max</th>\n",
       "      <td>200.000000</td>\n",
       "      <td>4.444027e+06</td>\n",
       "      <td>22.000000</td>\n",
       "      <td>1384.500000</td>\n",
       "      <td>204.000000</td>\n",
       "      <td>1137.000000</td>\n",
       "    </tr>\n",
       "  </tbody>\n",
       "</table>\n",
       "</div>"
      ],
      "text/plain": [
       "            Position       Streams  No. of Artists  Collab_avg_days_onchart  \\\n",
       "count  273601.000000  2.736010e+05   273601.000000            273601.000000   \n",
       "mean       97.780392  3.967226e+05        2.571091               396.859248   \n",
       "std        57.674022  2.654753e+05        0.991199               282.705348   \n",
       "min         1.000000  1.254840e+05        2.000000                 1.000000   \n",
       "25%        48.000000  2.367290e+05        2.000000               169.000000   \n",
       "50%        96.000000  3.039440e+05        2.000000               348.000000   \n",
       "75%       148.000000  4.590750e+05        3.000000               570.500000   \n",
       "max       200.000000  4.444027e+06       22.000000              1384.500000   \n",
       "\n",
       "       Collab_avg_cumu_songs  Song_days_onchart  \n",
       "count          273601.000000      273601.000000  \n",
       "mean               29.508039         111.680973  \n",
       "std                27.870607         138.674204  \n",
       "min                 1.000000           1.000000  \n",
       "25%                 9.000000          21.000000  \n",
       "50%                20.666667          63.000000  \n",
       "75%                41.500000         150.000000  \n",
       "max               204.000000        1137.000000  "
      ]
     },
     "execution_count": 35,
     "metadata": {},
     "output_type": "execute_result"
    }
   ],
   "source": [
    "top_us[['Position', 'Streams', 'No. of Artists', 'Artist Genre', 'Collab_avg_days_onchart', 'Collab_avg_cumu_songs', 'Song_days_onchart']].describe()"
   ]
  },
  {
   "cell_type": "markdown",
   "metadata": {},
   "source": [
    "### All Streams By Position"
   ]
  },
  {
   "cell_type": "code",
   "execution_count": 232,
   "metadata": {},
   "outputs": [
    {
     "data": {
      "text/plain": [
       "Text(0.5, 1.0, 'Songs with higher streams are ranked higher in chart')"
      ]
     },
     "execution_count": 232,
     "metadata": {},
     "output_type": "execute_result"
    },
    {
     "data": {
      "image/png": "[encoded data removed]",
      "text/plain": [
       "<Figure size 432x288 with 1 Axes>"
      ]
     },
     "metadata": {
      "needs_background": "light"
     },
     "output_type": "display_data"
    }
   ],
   "source": [
    "# graph average streams vs Position\n",
    "\n",
    "ax1 = (\n",
    "    top_us\n",
    "    .plot.scatter(x=\"Streams\", y=\"Position\", color='limegreen')\n",
    ")\n",
    "ax1.set_xlabel(\"Streams (in millions)\")\n",
    "ax1.set_ylabel(\"Average Position\")\n",
    "ax1.set_facecolor('black')\n",
    "ax1.set_title(\"Songs with higher streams are ranked higher in chart\") # as expected"
   ]
  },
  {
   "cell_type": "markdown",
   "metadata": {},
   "source": [
    "### Average Streams By Position"
   ]
  },
  {
   "cell_type": "code",
   "execution_count": 233,
   "metadata": {},
   "outputs": [
    {
     "data": {
      "text/plain": [
       "Text(0.5, 1.0, 'Songs with higher streams are ranked higher in chart')"
      ]
     },
     "execution_count": 233,
     "metadata": {},
     "output_type": "execute_result"
    },
    {
     "data": {
      "image/png": "[encoded data removed]",
      "text/plain": [
       "<Figure size 432x288 with 1 Axes>"
      ]
     },
     "metadata": {
      "needs_background": "light"
     },
     "output_type": "display_data"
    }
   ],
   "source": [
    "ax2 = (\n",
    "    top_us.groupby([\"Position\"])[\"Streams\"]\n",
    "    .mean()\n",
    "    .reset_index()\n",
    "    .plot.scatter(x=\"Streams\", y=\"Position\", color='limegreen')\n",
    "    \n",
    ")\n",
    "ax2.set_xlabel(\"Streams (in millions)\")\n",
    "ax2.set_ylabel(\"Average Position\")\n",
    "ax2.set_facecolor('black')\n",
    "ax2.set_title(\"Songs with higher streams are ranked higher in chart\")\n"
   ]
  },
  {
   "cell_type": "markdown",
   "metadata": {},
   "source": [
    "### Top Genres On Top 200 Chart"
   ]
  },
  {
   "cell_type": "code",
   "execution_count": 122,
   "metadata": {},
   "outputs": [
    {
     "data": {
      "text/html": [
       "<div>\n",
       "<style scoped>\n",
       "    .dataframe tbody tr th:only-of-type {\n",
       "        vertical-align: middle;\n",
       "    }\n",
       "\n",
       "    .dataframe tbody tr th {\n",
       "        vertical-align: top;\n",
       "    }\n",
       "\n",
       "    .dataframe thead th {\n",
       "        text-align: right;\n",
       "    }\n",
       "</style>\n",
       "<table border=\"1\" class=\"dataframe\">\n",
       "  <thead>\n",
       "    <tr style=\"text-align: right;\">\n",
       "      <th></th>\n",
       "      <th>Artist Name</th>\n",
       "      <th>Artist Genre</th>\n",
       "      <th>Position</th>\n",
       "      <th>Artist Genre Clean</th>\n",
       "    </tr>\n",
       "  </thead>\n",
       "  <tbody>\n",
       "    <tr>\n",
       "      <th>0</th>\n",
       "      <td>Hearts &amp; Colors</td>\n",
       "      <td>['post-teen pop', 'viral pop']</td>\n",
       "      <td>183</td>\n",
       "      <td>post-teen pop</td>\n",
       "    </tr>\n",
       "    <tr>\n",
       "      <th>0</th>\n",
       "      <td>Hearts &amp; Colors</td>\n",
       "      <td>['post-teen pop', 'viral pop']</td>\n",
       "      <td>183</td>\n",
       "      <td>viral pop</td>\n",
       "    </tr>\n",
       "    <tr>\n",
       "      <th>1</th>\n",
       "      <td>Andrelli</td>\n",
       "      <td>['swedish pop']</td>\n",
       "      <td>183</td>\n",
       "      <td>swedish pop</td>\n",
       "    </tr>\n",
       "    <tr>\n",
       "      <th>2</th>\n",
       "      <td>Martin Garrix</td>\n",
       "      <td>['big room', 'dance pop', 'edm', 'electro hous...</td>\n",
       "      <td>27</td>\n",
       "      <td>big room</td>\n",
       "    </tr>\n",
       "    <tr>\n",
       "      <th>2</th>\n",
       "      <td>Martin Garrix</td>\n",
       "      <td>['big room', 'dance pop', 'edm', 'electro hous...</td>\n",
       "      <td>27</td>\n",
       "      <td>dance pop</td>\n",
       "    </tr>\n",
       "    <tr>\n",
       "      <th>...</th>\n",
       "      <td>...</td>\n",
       "      <td>...</td>\n",
       "      <td>...</td>\n",
       "      <td>...</td>\n",
       "    </tr>\n",
       "    <tr>\n",
       "      <th>273599</th>\n",
       "      <td>DaBaby</td>\n",
       "      <td>['north carolina hip hop', 'rap']</td>\n",
       "      <td>33</td>\n",
       "      <td>north carolina hip hop</td>\n",
       "    </tr>\n",
       "    <tr>\n",
       "      <th>273599</th>\n",
       "      <td>DaBaby</td>\n",
       "      <td>['north carolina hip hop', 'rap']</td>\n",
       "      <td>33</td>\n",
       "      <td>rap</td>\n",
       "    </tr>\n",
       "    <tr>\n",
       "      <th>273600</th>\n",
       "      <td>Roddy Ricch</td>\n",
       "      <td>['melodic rap', 'rap', 'trap']</td>\n",
       "      <td>33</td>\n",
       "      <td>melodic rap</td>\n",
       "    </tr>\n",
       "    <tr>\n",
       "      <th>273600</th>\n",
       "      <td>Roddy Ricch</td>\n",
       "      <td>['melodic rap', 'rap', 'trap']</td>\n",
       "      <td>33</td>\n",
       "      <td>rap</td>\n",
       "    </tr>\n",
       "    <tr>\n",
       "      <th>273600</th>\n",
       "      <td>Roddy Ricch</td>\n",
       "      <td>['melodic rap', 'rap', 'trap']</td>\n",
       "      <td>33</td>\n",
       "      <td>trap</td>\n",
       "    </tr>\n",
       "  </tbody>\n",
       "</table>\n",
       "<p>1161405 rows × 4 columns</p>\n",
       "</div>"
      ],
      "text/plain": [
       "            Artist Name                                       Artist Genre  \\\n",
       "0       Hearts & Colors                     ['post-teen pop', 'viral pop']   \n",
       "0       Hearts & Colors                     ['post-teen pop', 'viral pop']   \n",
       "1              Andrelli                                    ['swedish pop']   \n",
       "2         Martin Garrix  ['big room', 'dance pop', 'edm', 'electro hous...   \n",
       "2         Martin Garrix  ['big room', 'dance pop', 'edm', 'electro hous...   \n",
       "...                 ...                                                ...   \n",
       "273599           DaBaby                  ['north carolina hip hop', 'rap']   \n",
       "273599           DaBaby                  ['north carolina hip hop', 'rap']   \n",
       "273600      Roddy Ricch                     ['melodic rap', 'rap', 'trap']   \n",
       "273600      Roddy Ricch                     ['melodic rap', 'rap', 'trap']   \n",
       "273600      Roddy Ricch                     ['melodic rap', 'rap', 'trap']   \n",
       "\n",
       "        Position      Artist Genre Clean  \n",
       "0            183           post-teen pop  \n",
       "0            183               viral pop  \n",
       "1            183             swedish pop  \n",
       "2             27                big room  \n",
       "2             27               dance pop  \n",
       "...          ...                     ...  \n",
       "273599        33  north carolina hip hop  \n",
       "273599        33                     rap  \n",
       "273600        33             melodic rap  \n",
       "273600        33                     rap  \n",
       "273600        33                    trap  \n",
       "\n",
       "[1161405 rows x 4 columns]"
      ]
     },
     "execution_count": 122,
     "metadata": {},
     "output_type": "execute_result"
    }
   ],
   "source": [
    "top_us_genre = top_us[[\"Artist Name\", \"Artist Genre\", \"Position\"]].copy()\n",
    "\n",
    "top_us_genre['Artist Genre Clean'] = top_us_genre['Artist Genre'].apply(lambda x: x.replace('[', ''))\n",
    "top_us_genre['Artist Genre Clean'] = top_us_genre['Artist Genre Clean'].apply(lambda x: x.replace(']', ''))\n",
    "top_us_genre['Artist Genre Clean'] = top_us_genre['Artist Genre Clean'].apply(lambda x: x.replace(\"'\", ''))\n",
    "top_us_genre['Artist Genre Clean'] = top_us_genre['Artist Genre Clean'].apply(lambda x: x.replace(', ', ','))\n",
    "top_us_genre['Artist Genre Clean'] = top_us_genre['Artist Genre Clean'].apply(lambda x: x.split(','))\n",
    "\n",
    "top_us_genre = top_us_genre.explode('Artist Genre Clean')\n",
    "top_us_genre"
   ]
  },
  {
   "cell_type": "code",
   "execution_count": 234,
   "metadata": {},
   "outputs": [
    {
     "data": {
      "text/plain": [
       "Text(0.5, 1.0, 'Top 5 Most Frequent Generes for Top 200 Chart')"
      ]
     },
     "execution_count": 234,
     "metadata": {},
     "output_type": "execute_result"
    },
    {
     "data": {
      "image/png": "[encoded data removed]",
      "text/plain": [
       "<Figure size 720x720 with 1 Axes>"
      ]
     },
     "metadata": {},
     "output_type": "display_data"
    }
   ],
   "source": [
    "ax3 = (\n",
    "    top_us_genre.groupby([\"Artist Genre Clean\"])[\"Position\"]\n",
    "    .count()\n",
    "    .reset_index(name=\"Count\")\n",
    "    .sort_values(by=\"Count\", ascending= False)\n",
    "    .head(5)\n",
    ")\n",
    "\n",
    "ax3=top_5_us_genre.set_index('Artist Genre Clean')\n",
    "\n",
    "colors = ['#b0e575', '#9dcb68', '#89b25b', '#76984e', '#627f41']\n",
    "\n",
    "ax3 = top_5_plot.plot(kind = 'pie', y = 'Count', autopct = '%1.1f%%', colors = colors, figsize = (10, 10))\n",
    "ax3.set_title(\"Top 5 Most Frequent Generes for Top 200 Chart\")"
   ]
  },
  {
   "cell_type": "code",
   "execution_count": 235,
   "metadata": {},
   "outputs": [
    {
     "data": {
      "text/plain": [
       "Text(0.5, 1.0, 'Top 5 Most Frequent Generes for Top 200 Chart')"
      ]
     },
     "execution_count": 235,
     "metadata": {},
     "output_type": "execute_result"
    },
    {
     "data": {
      "image/png": "[encoded data removed]",
      "text/plain": [
       "<Figure size 432x288 with 1 Axes>"
      ]
     },
     "metadata": {
      "needs_background": "light"
     },
     "output_type": "display_data"
    }
   ],
   "source": [
    "ax4 = top_5_us_genre.reset_index().plot.barh(x=\"Artist Genre Clean\", y=\"Count\", color = colors, )\n",
    "ax4.set_facecolor('black')\n",
    "ax4.invert_yaxis()\n",
    "ax4.get_legend().remove()\n",
    "ax4.set_xlabel(\"Count\")\n",
    "ax4.set_ylabel(\"Genre\")\n",
    "ax4.set_title(\"Top 5 Most Frequent Generes for Top 200 Chart\")"
   ]
  },
  {
   "cell_type": "markdown",
   "metadata": {},
   "source": [
    "### Seeing If Genres Differ Based on Top 10"
   ]
  },
  {
   "cell_type": "code",
   "execution_count": 159,
   "metadata": {},
   "outputs": [
    {
     "data": {
      "text/html": [
       "<div>\n",
       "<style scoped>\n",
       "    .dataframe tbody tr th:only-of-type {\n",
       "        vertical-align: middle;\n",
       "    }\n",
       "\n",
       "    .dataframe tbody tr th {\n",
       "        vertical-align: top;\n",
       "    }\n",
       "\n",
       "    .dataframe thead th {\n",
       "        text-align: right;\n",
       "    }\n",
       "</style>\n",
       "<table border=\"1\" class=\"dataframe\">\n",
       "  <thead>\n",
       "    <tr style=\"text-align: right;\">\n",
       "      <th></th>\n",
       "      <th>Count</th>\n",
       "    </tr>\n",
       "    <tr>\n",
       "      <th>Artist Genre Clean</th>\n",
       "      <th></th>\n",
       "    </tr>\n",
       "  </thead>\n",
       "  <tbody>\n",
       "    <tr>\n",
       "      <th>rap</th>\n",
       "      <td>9017</td>\n",
       "    </tr>\n",
       "    <tr>\n",
       "      <th>pop rap</th>\n",
       "      <td>5837</td>\n",
       "    </tr>\n",
       "    <tr>\n",
       "      <th>trap</th>\n",
       "      <td>5243</td>\n",
       "    </tr>\n",
       "    <tr>\n",
       "      <th>hip hop</th>\n",
       "      <td>3927</td>\n",
       "    </tr>\n",
       "    <tr>\n",
       "      <th>pop</th>\n",
       "      <td>3689</td>\n",
       "    </tr>\n",
       "  </tbody>\n",
       "</table>\n",
       "</div>"
      ],
      "text/plain": [
       "                    Count\n",
       "Artist Genre Clean       \n",
       "rap                  9017\n",
       "pop rap              5837\n",
       "trap                 5243\n",
       "hip hop              3927\n",
       "pop                  3689"
      ]
     },
     "execution_count": 159,
     "metadata": {},
     "output_type": "execute_result"
    }
   ],
   "source": [
    "top_10_positions = top_us_genre[top_us_genre['Position']<= 10]\n",
    "\n",
    "top_10_positions = (\n",
    "    top_10_positions.groupby([\"Artist Genre Clean\"])[\"Position\"]\n",
    "    .count()\n",
    "    .reset_index(name=\"Count\")\n",
    "    .sort_values(by=\"Count\", ascending= False)\n",
    "    .head(5)\n",
    ")\n",
    "\n",
    "top_10_positions = top_10_positions.set_index('Artist Genre Clean')\n",
    "\n",
    "top_10_positions"
   ]
  },
  {
   "cell_type": "code",
   "execution_count": 236,
   "metadata": {},
   "outputs": [
    {
     "data": {
      "text/plain": [
       "Text(0.5, 1.0, 'Top 5 Generes As Represented by The Top 10 Positions on The Top 200 Chart')"
      ]
     },
     "execution_count": 236,
     "metadata": {},
     "output_type": "execute_result"
    },
    {
     "data": {
      "image/png": "[encoded data removed]",
      "text/plain": [
       "<Figure size 720x720 with 1 Axes>"
      ]
     },
     "metadata": {},
     "output_type": "display_data"
    }
   ],
   "source": [
    "colors = ['#b0e575', '#9dcb68', '#89b25b', '#76984e', '#627f41']\n",
    "\n",
    "ax5 = top_10_positions.plot.pie(y='Count', autopct='%1.1f%%', colors = colors, figsize=(10, 10))\n",
    "ax5.set_title(\"Top 5 Generes As Represented by The Top 10 Positions on The Top 200 Chart\")"
   ]
  },
  {
   "cell_type": "code",
   "execution_count": 237,
   "metadata": {},
   "outputs": [
    {
     "data": {
      "text/plain": [
       "Text(0.5, 1.0, 'Top 5 Most Frequent Generes for Top 200 Chart')"
      ]
     },
     "execution_count": 237,
     "metadata": {},
     "output_type": "execute_result"
    },
    {
     "data": {
      "image/png": "[encoded data removed]",
      "text/plain": [
       "<Figure size 432x288 with 1 Axes>"
      ]
     },
     "metadata": {
      "needs_background": "light"
     },
     "output_type": "display_data"
    }
   ],
   "source": [
    "ax6 = top_10_positions.reset_index().plot.barh(x=\"Artist Genre Clean\", y=\"Count\", color = colors, )\n",
    "ax6.set_facecolor('black')\n",
    "ax6.invert_yaxis()\n",
    "ax6.get_legend().remove()\n",
    "ax6.set_xlabel(\"Count\")\n",
    "ax6.set_ylabel(\"Genre\")\n",
    "ax6.set_title(\"Top 5 Most Frequent Generes for Top 200 Chart\")"
   ]
  },
  {
   "cell_type": "markdown",
   "metadata": {},
   "source": [
    "### Average Position for Each Genre"
   ]
  },
  {
   "cell_type": "code",
   "execution_count": 181,
   "metadata": {},
   "outputs": [
    {
     "data": {
      "text/html": [
       "<div>\n",
       "<style scoped>\n",
       "    .dataframe tbody tr th:only-of-type {\n",
       "        vertical-align: middle;\n",
       "    }\n",
       "\n",
       "    .dataframe tbody tr th {\n",
       "        vertical-align: top;\n",
       "    }\n",
       "\n",
       "    .dataframe thead th {\n",
       "        text-align: right;\n",
       "    }\n",
       "</style>\n",
       "<table border=\"1\" class=\"dataframe\">\n",
       "  <thead>\n",
       "    <tr style=\"text-align: right;\">\n",
       "      <th></th>\n",
       "      <th>Artist Genre Clean</th>\n",
       "      <th>Position</th>\n",
       "      <th>Frequency</th>\n",
       "    </tr>\n",
       "  </thead>\n",
       "  <tbody>\n",
       "    <tr>\n",
       "      <th>422</th>\n",
       "      <td>rap</td>\n",
       "      <td>100.500000</td>\n",
       "      <td>653.815</td>\n",
       "    </tr>\n",
       "    <tr>\n",
       "      <th>398</th>\n",
       "      <td>pop rap</td>\n",
       "      <td>100.500000</td>\n",
       "      <td>472.155</td>\n",
       "    </tr>\n",
       "    <tr>\n",
       "      <th>507</th>\n",
       "      <td>trap</td>\n",
       "      <td>100.500000</td>\n",
       "      <td>465.550</td>\n",
       "    </tr>\n",
       "    <tr>\n",
       "      <th>390</th>\n",
       "      <td>pop</td>\n",
       "      <td>100.500000</td>\n",
       "      <td>422.795</td>\n",
       "    </tr>\n",
       "    <tr>\n",
       "      <th>240</th>\n",
       "      <td>hip hop</td>\n",
       "      <td>100.500000</td>\n",
       "      <td>322.145</td>\n",
       "    </tr>\n",
       "    <tr>\n",
       "      <th>...</th>\n",
       "      <td>...</td>\n",
       "      <td>...</td>\n",
       "      <td>...</td>\n",
       "    </tr>\n",
       "    <tr>\n",
       "      <th>212</th>\n",
       "      <td>gaming dubstep</td>\n",
       "      <td>151.000000</td>\n",
       "      <td>1.000</td>\n",
       "    </tr>\n",
       "    <tr>\n",
       "      <th>426</th>\n",
       "      <td>rap francais</td>\n",
       "      <td>107.000000</td>\n",
       "      <td>1.000</td>\n",
       "    </tr>\n",
       "    <tr>\n",
       "      <th>427</th>\n",
       "      <td>rap kreyol</td>\n",
       "      <td>130.428571</td>\n",
       "      <td>1.000</td>\n",
       "    </tr>\n",
       "    <tr>\n",
       "      <th>209</th>\n",
       "      <td>future garage</td>\n",
       "      <td>188.000000</td>\n",
       "      <td>1.000</td>\n",
       "    </tr>\n",
       "    <tr>\n",
       "      <th>277</th>\n",
       "      <td>jazz guitar</td>\n",
       "      <td>135.333333</td>\n",
       "      <td>1.000</td>\n",
       "    </tr>\n",
       "  </tbody>\n",
       "</table>\n",
       "<p>554 rows × 3 columns</p>\n",
       "</div>"
      ],
      "text/plain": [
       "    Artist Genre Clean    Position  Frequency\n",
       "422                rap  100.500000    653.815\n",
       "398            pop rap  100.500000    472.155\n",
       "507               trap  100.500000    465.550\n",
       "390                pop  100.500000    422.795\n",
       "240            hip hop  100.500000    322.145\n",
       "..                 ...         ...        ...\n",
       "212     gaming dubstep  151.000000      1.000\n",
       "426       rap francais  107.000000      1.000\n",
       "427         rap kreyol  130.428571      1.000\n",
       "209      future garage  188.000000      1.000\n",
       "277        jazz guitar  135.333333      1.000\n",
       "\n",
       "[554 rows x 3 columns]"
      ]
     },
     "execution_count": 181,
     "metadata": {},
     "output_type": "execute_result"
    }
   ],
   "source": [
    "top_5_us_genre_pos = (\n",
    "    top_us_genre.groupby([\"Artist Genre Clean\",\"Position\"])[\"Artist Name\"]\n",
    "    .count()\n",
    "    .reset_index(name = 'Frequency')\n",
    "    .groupby('Artist Genre Clean')\n",
    "    .mean('Position')\n",
    "    .reset_index()\n",
    "    .sort_values(['Frequency'], ascending = [False])\n",
    "    \n",
    "    \n",
    ")\n",
    "top_5_us_genre_pos"
   ]
  },
  {
   "cell_type": "markdown",
   "metadata": {},
   "source": [
    "### Number Of Artists By Average Position"
   ]
  },
  {
   "cell_type": "markdown",
   "metadata": {},
   "source": [
    "From the chart above,['dfw rap', 'melodic rap', 'rap'] seem to be the top genres among the top 10 (with ranking between the 1st and 10th) od the 200 chart in the US since 2017.  "
   ]
  },
  {
   "cell_type": "code",
   "execution_count": 238,
   "metadata": {},
   "outputs": [
    {
     "data": {
      "image/png": "[encoded data removed]",
      "text/plain": [
       "<Figure size 432x288 with 1 Axes>"
      ]
     },
     "metadata": {
      "needs_background": "light"
     },
     "output_type": "display_data"
    }
   ],
   "source": [
    "# boxplot graph for No of collaborators vs Position \n",
    "ax7 = sns.boxplot(x = 'No. of Artists', y='Position', data = top_us, color = '#b0e575' )\n",
    "ax7.set_ylabel(\"Position\")\n",
    "ax7.set_title(\"Distribution of Position and Number of Artists\")\n",
    "ax7.set_facecolor('black')"
   ]
  },
  {
   "cell_type": "code",
   "execution_count": 239,
   "metadata": {},
   "outputs": [
    {
     "data": {
      "text/plain": [
       "Text(0.5, 1.0, 'Average Song Position and Number of Collaborators')"
      ]
     },
     "execution_count": 239,
     "metadata": {},
     "output_type": "execute_result"
    },
    {
     "data": {
      "image/png": "[encoded data removed]",
      "text/plain": [
       "<Figure size 432x288 with 1 Axes>"
      ]
     },
     "metadata": {
      "needs_background": "light"
     },
     "output_type": "display_data"
    }
   ],
   "source": [
    "ax8 = (\n",
    "    top_us.groupby([\"No. of Artists\"])[\"Position\"]\n",
    "    .mean()\n",
    "    .reset_index(name=\"Position\")\n",
    "    .sort_values(by=\"No. of Artists\", ascending= True)\n",
    "    .plot.bar(x=\"No. of Artists\", y=\"Position\", color = '#b0e575')\n",
    ")\n",
    "ax8.set_facecolor('black')\n",
    "ax8.get_legend().remove()\n",
    "ax8.set_xlabel(\"No. of Artists\")\n",
    "ax8.set_ylabel(\"Average Position\")\n",
    "ax8.set_title(\"Average Song Position and Number of Collaborators\")"
   ]
  },
  {
   "cell_type": "markdown",
   "metadata": {},
   "source": [
    "Songs with up to 4-artist collaboration rank higher on the chart 200 over all. Songs featuring 10 artsts and more seem to rank closer to the top charts perhaps because they are classic holiday/seasonal songs, or a large musical production. "
   ]
  },
  {
   "cell_type": "markdown",
   "metadata": {},
   "source": [
    "### Days on Chart Compared To Position"
   ]
  },
  {
   "cell_type": "code",
   "execution_count": 240,
   "metadata": {},
   "outputs": [
    {
     "data": {
      "text/plain": [
       "Text(0.5, 1.0, 'Days on the Chart Compared to the Position')"
      ]
     },
     "execution_count": 240,
     "metadata": {},
     "output_type": "execute_result"
    },
    {
     "data": {
      "image/png": "[encoded data removed]",
      "text/plain": [
       "<Figure size 432x288 with 1 Axes>"
      ]
     },
     "metadata": {
      "needs_background": "light"
     },
     "output_type": "display_data"
    }
   ],
   "source": [
    "ax9 = (\n",
    "    top_us.plot.scatter(x=\"Position\", y=\"Song_days_onchart\", color='limegreen')   \n",
    ")\n",
    "\n",
    "ax9.invert_xaxis()\n",
    "ax9.set_facecolor('black')\n",
    "ax9.set_xlabel(\"Position\")\n",
    "ax9.set_ylabel(\"Days on the Chart\")\n",
    "ax9.set_title(\"Days on the Chart Compared to the Position\") "
   ]
  },
  {
   "cell_type": "code",
   "execution_count": 210,
   "metadata": {},
   "outputs": [
    {
     "data": {
      "text/plain": [
       "Text(0.5, 1.0, 'Average Days on the Chart Compared to the Position')"
      ]
     },
     "execution_count": 210,
     "metadata": {},
     "output_type": "execute_result"
    },
    {
     "data": {
      "image/png": "[encoded data removed]",
      "text/plain": [
       "<Figure size 432x288 with 1 Axes>"
      ]
     },
     "metadata": {
      "needs_background": "light"
     },
     "output_type": "display_data"
    }
   ],
   "source": [
    "ax10 = (\n",
    "    top_us.groupby([\"Position\"])[\"Song_days_onchart\"]\n",
    "    .mean()\n",
    "    .reset_index()\n",
    "    .sort_values(by=\"Position\", ascending= True)\n",
    "    .plot.scatter(x=\"Position\", y=\"Song_days_onchart\", color='limegreen')\n",
    ")\n",
    "ax10.invert_xaxis()\n",
    "ax10.set_facecolor('black')\n",
    "ax10.set_xlabel(\"Position\")\n",
    "ax10.set_ylabel(\"Average Days On Chart\")\n",
    "ax10.set_title(\"Average Days on the Chart Compared to the Position\") "
   ]
  },
  {
   "cell_type": "code",
   "execution_count": 241,
   "metadata": {},
   "outputs": [
    {
     "data": {
      "text/plain": [
       "Text(0.5, 1.0, 'Days on the Chart Compared to the Position')"
      ]
     },
     "execution_count": 241,
     "metadata": {},
     "output_type": "execute_result"
    },
    {
     "data": {
      "image/png": "[encoded data removed]",
      "text/plain": [
       "<Figure size 432x288 with 1 Axes>"
      ]
     },
     "metadata": {
      "needs_background": "light"
     },
     "output_type": "display_data"
    }
   ],
   "source": [
    "ax11 = (\n",
    "    top_us.groupby([\"Position\"])[\"Song_days_onchart\"]\n",
    "    .mean()\n",
    "    .reset_index()\n",
    "    .sort_values(by=\"Position\", ascending= True)\n",
    "    .plot.line(x=\"Position\", y=\"Song_days_onchart\", color='limegreen')\n",
    ")\n",
    "ax11.invert_xaxis()\n",
    "ax11.get_legend().remove()\n",
    "ax11.set_facecolor('black')\n",
    "ax11.set_xlabel(\"Position\")\n",
    "ax11.set_ylabel(\"Average Days On Chart\")\n",
    "ax11.set_title(\"Days on the Chart Compared to the Position\") "
   ]
  },
  {
   "cell_type": "markdown",
   "metadata": {},
   "source": [
    "### Days on Chart Compared To Position For Top 10 Tracks"
   ]
  },
  {
   "cell_type": "code",
   "execution_count": 242,
   "metadata": {},
   "outputs": [
    {
     "data": {
      "text/plain": [
       "Text(0.5, 1.0, 'Days on the Chart Compared to the Position For Top 10')"
      ]
     },
     "execution_count": 242,
     "metadata": {},
     "output_type": "execute_result"
    },
    {
     "data": {
      "image/png": "[encoded data removed]",
      "text/plain": [
       "<Figure size 432x288 with 1 Axes>"
      ]
     },
     "metadata": {
      "needs_background": "light"
     },
     "output_type": "display_data"
    }
   ],
   "source": [
    "#graph days a song is on chart vs average position for songs ranked in top 10 \n",
    "ax12 = (\n",
    "    top_us[top_us['Position'] <= 10].groupby([\"Position\"])[\"Song_days_onchart\"]\n",
    "    .mean()\n",
    "    .reset_index()\n",
    "    .sort_values(by=\"Position\", ascending= True)\n",
    "    .plot.line(x=\"Position\", y=\"Song_days_onchart\", color='limegreen')\n",
    ")\n",
    "ax12.invert_xaxis()\n",
    "ax12.get_legend().remove()\n",
    "ax12.set_facecolor('black')\n",
    "ax12.set_xlabel(\"Position\")\n",
    "ax12.set_ylabel(\"Average Days On Chart\")\n",
    "ax12.set_title(\"Days on the Chart Compared to the Position For Top 10\") "
   ]
  },
  {
   "cell_type": "markdown",
   "metadata": {},
   "source": [
    "### Artist Days On Chart Compared to Track Position"
   ]
  },
  {
   "cell_type": "code",
   "execution_count": 1,
   "metadata": {},
   "outputs": [
    {
     "ename": "NameError",
     "evalue": "name 'top_us' is not defined",
     "output_type": "error",
     "traceback": [
      "\u001b[0;31m---------------------------------------------------------------------------\u001b[0m",
      "\u001b[0;31mNameError\u001b[0m                                 Traceback (most recent call last)",
      "\u001b[0;32m<ipython-input-1-0bdc5b0c45c2>\u001b[0m in \u001b[0;36m<module>\u001b[0;34m\u001b[0m\n\u001b[1;32m      1\u001b[0m \u001b[0;31m# plotting Artist_days_onchart vs average position\u001b[0m\u001b[0;34m\u001b[0m\u001b[0;34m\u001b[0m\u001b[0;34m\u001b[0m\u001b[0m\n\u001b[1;32m      2\u001b[0m ax13 = (\n\u001b[0;32m----> 3\u001b[0;31m     \u001b[0mtop_us\u001b[0m\u001b[0;34m.\u001b[0m\u001b[0mgroupby\u001b[0m\u001b[0;34m(\u001b[0m\u001b[0;34m[\u001b[0m\u001b[0;34m\"Position\"\u001b[0m\u001b[0;34m]\u001b[0m\u001b[0;34m)\u001b[0m\u001b[0;34m[\u001b[0m\u001b[0;34m\"Artist_days_onchart\"\u001b[0m\u001b[0;34m]\u001b[0m\u001b[0;34m\u001b[0m\u001b[0;34m\u001b[0m\u001b[0m\n\u001b[0m\u001b[1;32m      4\u001b[0m     \u001b[0;34m.\u001b[0m\u001b[0mmean\u001b[0m\u001b[0;34m(\u001b[0m\u001b[0;34m)\u001b[0m\u001b[0;34m\u001b[0m\u001b[0;34m\u001b[0m\u001b[0m\n\u001b[1;32m      5\u001b[0m     \u001b[0;34m.\u001b[0m\u001b[0mreset_index\u001b[0m\u001b[0;34m(\u001b[0m\u001b[0mname\u001b[0m \u001b[0;34m=\u001b[0m \u001b[0;34m'Average Artist Days On Chart'\u001b[0m\u001b[0;34m)\u001b[0m\u001b[0;34m\u001b[0m\u001b[0;34m\u001b[0m\u001b[0m\n",
      "\u001b[0;31mNameError\u001b[0m: name 'top_us' is not defined"
     ]
    }
   ],
   "source": [
    "# plotting Artist_days_onchart vs average position \n",
    "ax13 = (\n",
    "    top_us.groupby([\"Position\"])[\"Artist_days_onchart\"]\n",
    "    .mean()\n",
    "    .reset_index(name = 'Average Artist Days On Chart')\n",
    "    .sort_values(by=\"Position\", ascending=True)\n",
    "    .plot.scatter(x=\"Position\", y=\"Average Artist Days On Chart\", color='limegreen')\n",
    ")\n",
    "ax13.set_facecolor('black')\n",
    "ax13.set_xlabel(\"Position\")\n",
    "ax13.set_ylabel(\"Artist's Average Days on Chart\")\n",
    "ax13.set_title(\"Artist's Average Days on Chart Compared to Average Position \")"
   ]
  },
  {
   "cell_type": "markdown",
   "metadata": {},
   "source": [
    "### Average Days On Chart Compared to Position for Collabs"
   ]
  },
  {
   "cell_type": "code",
   "execution_count": 244,
   "metadata": {},
   "outputs": [
    {
     "data": {
      "text/plain": [
       "Text(0.5, 1.0, \"Collab's Average Days on Chart Compared to Average Position \")"
      ]
     },
     "execution_count": 244,
     "metadata": {},
     "output_type": "execute_result"
    },
    {
     "data": {
      "image/png": "[encoded data removed]",
      "text/plain": [
       "<Figure size 432x288 with 1 Axes>"
      ]
     },
     "metadata": {
      "needs_background": "light"
     },
     "output_type": "display_data"
    }
   ],
   "source": [
    "ax14 = (\n",
    "    top_us.groupby([\"Position\"])[\"Collab_avg_days_onchart\"]\n",
    "    .mean()\n",
    "    .reset_index(name = \"Average Collab Days On Chart\")\n",
    "    .sort_values(by=\"Position\", ascending=True)\n",
    "    .plot.scatter(x=\"Position\", y=\"Average Collab Days On Chart\", color='limegreen')\n",
    ")\n",
    "ax14.set_facecolor('black')\n",
    "ax14.set_xlabel(\"Position\")\n",
    "ax14.set_ylabel(\"Average Collab Days on Chart\")\n",
    "ax14.set_title(\"Collab's Average Days on Chart Compared to Average Position \")"
   ]
  },
  {
   "cell_type": "markdown",
   "metadata": {},
   "source": [
    "## Investigating correlations - Havent Gone Through (JS)\n"
   ]
  },
  {
   "cell_type": "code",
   "execution_count": 281,
   "metadata": {},
   "outputs": [
    {
     "data": {
      "text/plain": [
       "Position                   1.000000\n",
       "Song_days_since_first      0.274646\n",
       "Song_streak_id             0.261527\n",
       "Song_days_onchart          0.256863\n",
       "Song_days_since_release    0.050872\n",
       "No. of Artists             0.046438\n",
       "Artist No.                 0.025811\n",
       "Year_chart                 0.014811\n",
       "Unnamed: 0                 0.010226\n",
       "Collab_avg_days_onchart    0.007098\n",
       "Artist_days_onchart        0.006121\n",
       "Album_release_month        0.003664\n",
       "Name: Position, dtype: float64"
      ]
     },
     "execution_count": 281,
     "metadata": {},
     "output_type": "execute_result"
    }
   ],
   "source": [
    "# Create a correlation matrix\n",
    "corr    = top_us.corr()\n",
    "pos_cor = corr['Position'] >0\n",
    "neg_cor = corr['Position'] <0\n",
    "corr['Position'][pos_cor].sort_values(ascending = False)"
   ]
  },
  {
   "cell_type": "code",
   "execution_count": 283,
   "metadata": {},
   "outputs": [
    {
     "data": {
      "text/plain": [
       "Streams                  -0.745268\n",
       "Collab_avg_cumu_songs    -0.057974\n",
       "Collab_avg_cumu_solo     -0.055410\n",
       "Collab_avg_cumu_collab   -0.051747\n",
       "Song_consec_day          -0.047811\n",
       "Artist_cumu_songs        -0.046756\n",
       "Artist_cumu_solo         -0.042137\n",
       "Artist_cumu_collab       -0.041958\n",
       "Month_chart              -0.019041\n",
       "Name: Position, dtype: float64"
      ]
     },
     "execution_count": 283,
     "metadata": {},
     "output_type": "execute_result"
    }
   ],
   "source": [
    "corr['Position'][neg_cor].sort_values()"
   ]
  },
  {
   "cell_type": "code",
   "execution_count": null,
   "metadata": {},
   "outputs": [],
   "source": []
  }
 ],
 "metadata": {
  "kernelspec": {
   "display_name": "Python 3",
   "language": "python",
   "name": "python3"
  },
  "language_info": {
   "codemirror_mode": {
    "name": "ipython",
    "version": 3
   },
   "file_extension": ".py",
   "mimetype": "text/x-python",
   "name": "python",
   "nbconvert_exporter": "python",
   "pygments_lexer": "ipython3",
   "version": "3.8.5"
  }
 },
 "nbformat": 4,
 "nbformat_minor": 4
}
