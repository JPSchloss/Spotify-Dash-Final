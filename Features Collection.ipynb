{
 "cells": [
  {
   "cell_type": "markdown",
   "metadata": {},
   "source": [
    "# Batch Feature Collection in 5 Steps"
   ]
  },
  {
   "cell_type": "code",
   "execution_count": 2,
   "metadata": {},
   "outputs": [
    {
     "ename": "ModuleNotFoundError",
     "evalue": "No module named 'spotipy'",
     "output_type": "error",
     "traceback": [
      "\u001b[0;31m---------------------------------------------------------------------------\u001b[0m",
      "\u001b[0;31mModuleNotFoundError\u001b[0m                       Traceback (most recent call last)",
      "\u001b[0;32m<ipython-input-2-90e083813506>\u001b[0m in \u001b[0;36m<module>\u001b[0;34m\u001b[0m\n\u001b[0;32m----> 1\u001b[0;31m \u001b[0;32mimport\u001b[0m \u001b[0mspotipy\u001b[0m\u001b[0;34m\u001b[0m\u001b[0;34m\u001b[0m\u001b[0m\n\u001b[0m\u001b[1;32m      2\u001b[0m \u001b[0;32mfrom\u001b[0m \u001b[0mspotipy\u001b[0m\u001b[0;34m.\u001b[0m\u001b[0moauth2\u001b[0m \u001b[0;32mimport\u001b[0m \u001b[0mSpotifyClientCredentials\u001b[0m\u001b[0;34m\u001b[0m\u001b[0;34m\u001b[0m\u001b[0m\n\u001b[1;32m      3\u001b[0m \u001b[0;32mimport\u001b[0m \u001b[0mspotipy\u001b[0m\u001b[0;34m.\u001b[0m\u001b[0mutil\u001b[0m \u001b[0;32mas\u001b[0m \u001b[0mutil\u001b[0m\u001b[0;34m\u001b[0m\u001b[0;34m\u001b[0m\u001b[0m\n\u001b[1;32m      4\u001b[0m \u001b[0;32mimport\u001b[0m \u001b[0mpandas\u001b[0m \u001b[0;32mas\u001b[0m \u001b[0mpd\u001b[0m\u001b[0;34m\u001b[0m\u001b[0;34m\u001b[0m\u001b[0m\n\u001b[1;32m      5\u001b[0m \u001b[0;32mimport\u001b[0m \u001b[0mnumpy\u001b[0m \u001b[0;32mas\u001b[0m \u001b[0mnp\u001b[0m\u001b[0;34m\u001b[0m\u001b[0;34m\u001b[0m\u001b[0m\n",
      "\u001b[0;31mModuleNotFoundError\u001b[0m: No module named 'spotipy'"
     ]
    }
   ],
   "source": [
    "import spotipy\n",
    "from spotipy.oauth2 import SpotifyClientCredentials\n",
    "import spotipy.util as util\n",
    "import pandas as pd\n",
    "import numpy as np \n",
    "import matplotlib.pyplot as plt\n",
    "import time \n",
    "import statistics \n",
    "\n",
    "from IPython.display import display\n",
    "pd.options.display.max_columns = None"
   ]
  },
  {
   "cell_type": "markdown",
   "metadata": {},
   "source": [
    "**Hello and Welcome!**\n",
    "\n",
    "**Please Follow The Steps Below**\n",
    "\n",
    "**If you have any issues, please check:**\n",
    "1. The CSV File that is being read in.\n",
    "2. The credentials for your Spotify Dev account.\n",
    "3. Everything has been run in order.\n",
    "4. The output file. \n",
    "\n",
    "**If you have any issues, please reach out!**"
   ]
  },
  {
   "cell_type": "markdown",
   "metadata": {},
   "source": [
    "### Step 1. Please load in your batch CSV File. "
   ]
  },
  {
   "cell_type": "code",
   "execution_count": 1,
   "metadata": {},
   "outputs": [
    {
     "ename": "NameError",
     "evalue": "name 'pd' is not defined",
     "output_type": "error",
     "traceback": [
      "\u001b[0;31m---------------------------------------------------------------------------\u001b[0m",
      "\u001b[0;31mNameError\u001b[0m                                 Traceback (most recent call last)",
      "\u001b[0;32m<ipython-input-1-551afda072d6>\u001b[0m in \u001b[0;36m<module>\u001b[0;34m\u001b[0m\n\u001b[1;32m      4\u001b[0m \u001b[0mPathName\u001b[0m \u001b[0;34m=\u001b[0m \u001b[0;34m'../data/batches/batch_5.csv'\u001b[0m \u001b[0;31m#'ENTER PATH NAME HERE'\u001b[0m\u001b[0;34m\u001b[0m\u001b[0;34m\u001b[0m\u001b[0m\n\u001b[1;32m      5\u001b[0m \u001b[0;34m\u001b[0m\u001b[0m\n\u001b[0;32m----> 6\u001b[0;31m \u001b[0mBatch_File\u001b[0m \u001b[0;34m=\u001b[0m \u001b[0mpd\u001b[0m\u001b[0;34m.\u001b[0m\u001b[0mread_csv\u001b[0m\u001b[0;34m(\u001b[0m\u001b[0mPathName\u001b[0m\u001b[0;34m,\u001b[0m \u001b[0mindex_col\u001b[0m \u001b[0;34m=\u001b[0m \u001b[0;36m0\u001b[0m\u001b[0;34m)\u001b[0m\u001b[0;34m\u001b[0m\u001b[0;34m\u001b[0m\u001b[0m\n\u001b[0m\u001b[1;32m      7\u001b[0m \u001b[0mBatch_File\u001b[0m\u001b[0;34m.\u001b[0m\u001b[0mhead\u001b[0m\u001b[0;34m(\u001b[0m\u001b[0;34m)\u001b[0m\u001b[0;34m\u001b[0m\u001b[0;34m\u001b[0m\u001b[0m\n",
      "\u001b[0;31mNameError\u001b[0m: name 'pd' is not defined"
     ]
    }
   ],
   "source": [
    "# Example File Short Path: '../data/batches/batch_1.csv'\n",
    "# Yours may be slightly different\n",
    "\n",
    "PathName = '../data/batches/batch_5.csv' #'ENTER PATH NAME HERE'\n",
    "\n",
    "Batch_File = pd.read_csv(PathName, index_col = 0)\n",
    "Batch_File.head()"
   ]
  },
  {
   "cell_type": "markdown",
   "metadata": {},
   "source": [
    "### Step 2: Setting Up Spotipy"
   ]
  },
  {
   "cell_type": "code",
   "execution_count": null,
   "metadata": {},
   "outputs": [],
   "source": [
    "import spotipy\n",
    "from spotipy.oauth2 import SpotifyClientCredentials\n",
    "import spotipy.util as util\n",
    "import pandas as pd\n",
    "import numpy as np \n",
    "import matplotlib.pyplot as plt\n",
    "import time \n",
    "import statistics \n",
    "\n",
    "from IPython.display import display\n",
    "pd.options.display.max_columns = None"
   ]
  },
  {
   "cell_type": "markdown",
   "metadata": {},
   "source": [
    "#### Please copy your spotify developer credentials in the box below. These can be found on the spotify developer webpage. \n",
    "    Note: Make sure to put the string in ''."
   ]
  },
  {
   "cell_type": "code",
   "execution_count": null,
   "metadata": {},
   "outputs": [],
   "source": [
    "SPOTIPY_CLIENT_ID = #### COPY CLIENT ID HERE #### 'XXXXXXXXXXXXXXXXXXXXXXXXX'\n",
    "SPOTIPY_CLIENT_SECRET = #### COPY CLIENT SECRET HERE #### 'XXXXXXXXXXXXXXXXXXXXXXXXX'"
   ]
  },
  {
   "cell_type": "code",
   "execution_count": null,
   "metadata": {},
   "outputs": [],
   "source": [
    "client_credentials_manager = SpotifyClientCredentials(client_id= SPOTIPY_CLIENT_ID, \n",
    "                                                      client_secret=SPOTIPY_CLIENT_SECRET)\n",
    "\n",
    "sp = spotipy.Spotify(client_credentials_manager= client_credentials_manager)"
   ]
  },
  {
   "cell_type": "markdown",
   "metadata": {},
   "source": [
    "### Step 3: Run the code below to create the function. "
   ]
  },
  {
   "cell_type": "code",
   "execution_count": null,
   "metadata": {},
   "outputs": [],
   "source": [
    "def get_data(list_of_artist_uris):\n",
    "    print(f'There are {len(list_of_artist_uris)} artists that we found')\n",
    "    \n",
    "    aud_feat = []\n",
    "    danceability = []\n",
    "    energy = []\n",
    "    key = []\n",
    "    mode = []\n",
    "    loudness = []\n",
    "    speechiness = []\n",
    "    acousticness = []\n",
    "    instrumentalness = []   \n",
    "    liveness = []\n",
    "    valence = []\n",
    "    tempo = []\n",
    "    art_uri = []\n",
    "    alb_uri = []\n",
    "    alb_date = []\n",
    "    alb_name = []\n",
    "    alb_genre = []\n",
    "    alb_group = []\n",
    "    \n",
    "    albums_set = set()\n",
    "    \n",
    "    for uri in list_of_artist_uris['0']:\n",
    "        time.sleep(.3)\n",
    "        print(f'Collecting Data for {uri}' )\n",
    "        \n",
    "        artist_result = sp.artist_albums(uri)\n",
    "    \n",
    "        for i in range(len(artist_result['items'])):\n",
    "\n",
    "            art_uri.append(uri)\n",
    "            alb_date.append(artist_result['items'][i]['release_date'])\n",
    "            alb_name.append(artist_result['items'][i]['name']) \n",
    "        \n",
    "            temp_uri = artist_result['items'][i]['id']\n",
    "            alb_uri.append(temp_uri)\n",
    "            albums_set.add(temp_uri)\n",
    "        \n",
    "            temp_name = artist_result['items'][i]['name']\n",
    "        \n",
    "            alb_group.append(artist_result['items'][i]['album_group'])\n",
    "            artist_result['items'][i]['album_group'] \n",
    "\n",
    "            if temp_uri in albums_set:\n",
    "                l1 = []\n",
    "                l2 = []\n",
    "                l3 = []\n",
    "                l4 = []\n",
    "                l5 = []\n",
    "                l6 = []\n",
    "                l7 = []\n",
    "                l8 = []\n",
    "                l9 = []\n",
    "                l10 = []\n",
    "                l11 = []\n",
    "            \n",
    "                album_result = sp.album(temp_uri)\n",
    "                alb_genre.append(album_result['genres'])\n",
    "            \n",
    "                for j in range(len(album_result['tracks']['items'])):\n",
    "                    feature = sp.audio_features(album_result['tracks']['items'][j]['id'])[0]\n",
    "                    if type(feature) == dict:\n",
    "                        l1.append(feature['danceability'])\n",
    "                        l2.append(feature['energy'])\n",
    "                        l3.append(feature['key'])\n",
    "                        l4.append(feature['mode'])\n",
    "                        l5.append(feature['loudness'])\n",
    "                        l6.append(feature['speechiness'])\n",
    "                        l7.append(feature['acousticness'])\n",
    "                        l8.append(feature['instrumentalness'])\n",
    "                        l9.append(feature['liveness'])\n",
    "                        l10.append(feature['valence'])\n",
    "                        l11.append(feature['tempo'])\n",
    "\n",
    "                if(len(l1)>1):\n",
    "                    danceability.append(statistics.mean(l1))\n",
    "                else: \n",
    "                    danceability.append(l1[-1])\n",
    "\n",
    "                if(len(l2)>1):\n",
    "                    energy.append(statistics.mean(l2))\n",
    "                else: \n",
    "                    energy.append(l2[-1])\n",
    "\n",
    "                if(len(l5)>1):\n",
    "                    loudness.append(statistics.mean(l5))\n",
    "                else: \n",
    "                    loudness.append(l5[-1])\n",
    "\n",
    "                if(len(l6)>1):\n",
    "                    speechiness.append(statistics.mean(l6))\n",
    "                else: \n",
    "                    speechiness.append(l6[-1])\n",
    "\n",
    "                if(len(l7)>1):\n",
    "                    acousticness.append(statistics.mean(l7))\n",
    "                else: \n",
    "                    acousticness.append(l7[-1])\n",
    "\n",
    "                if(len(l8)>1):\n",
    "                    instrumentalness.append(statistics.mean(l8))\n",
    "                else: \n",
    "                    instrumentalness.append(l8[-1])\n",
    "\n",
    "                if(len(l9)>1):\n",
    "                    liveness.append(statistics.mean(l9))\n",
    "                else: \n",
    "                    liveness.append(l9[-1])\n",
    "\n",
    "                if(len(l10)>1):\n",
    "                    valence.append(statistics.mean(l10))\n",
    "                else: \n",
    "                    valence.append(l10[-1])\n",
    "\n",
    "                if(len(l11)>1):\n",
    "                    tempo.append(statistics.mean(l11))\n",
    "                else: \n",
    "                    tempo.append(l11[-1])\n",
    "\n",
    "                if(len(l3)>1):    \n",
    "                    key.append(statistics.median(l3))\n",
    "                else: \n",
    "                    key.append(l3[-1])\n",
    "\n",
    "                if(len(l4)>1):\n",
    "                    mode.append(statistics.median(l4))\n",
    "                else: \n",
    "                    mode.append(l4[-1])\n",
    "\n",
    "            else: \n",
    "                print(f'Found a duplicate album: {temp_uri}. Will not calculate audio features')\n",
    "                danceability.append('DUPLICATE')\n",
    "                energy.append('DUPLICATE')\n",
    "                key.append('DUPLICATE')\n",
    "                mode.append('DUPLICATE')\n",
    "                loudness.append('DUPLICATE')\n",
    "                speechiness.append('DUPLICATE')\n",
    "                acousticness.append('DUPLICATE')\n",
    "                instrumentalness.append('DUPLICATE')   \n",
    "                liveness.append('DUPLICATE')\n",
    "                valence.append('DUPLICATE')\n",
    "                tempo.append('DUPLICATE')\n",
    "    \n",
    "    print(\"Creating Artist Dataframe\")\n",
    "    album_data = pd.DataFrame({'Artist URI': art_uri,\n",
    "                               'Album URI': alb_uri,\n",
    "                               'Album Group': alb_group,\n",
    "                               'Album Name': alb_name,\n",
    "                               'Album Release Date' : alb_date,\n",
    "                               'Album Danceability' : danceability,\n",
    "                               'Album Energy' : energy,\n",
    "                               'Album Key' : key,\n",
    "                               'Album Loudness' : loudness,\n",
    "                               'Album Speechiness' : speechiness,\n",
    "                               'Album Acousticness' : acousticness,\n",
    "                               'Album Instrumentalness' : instrumentalness,\n",
    "                               'Album Liveness' : liveness,\n",
    "                               'Album Valence': valence,\n",
    "                               'Album Tempo' : tempo,\n",
    "                               'Album Genres': alb_genre\n",
    "                          })\n",
    "    print('Complete!')\n",
    "    return album_data"
   ]
  },
  {
   "cell_type": "markdown",
   "metadata": {},
   "source": [
    "### Step 4: Run the code below to run the function. \n",
    "    Note: This can take up to an hour and a half. Please be patient. If there is an error, please wait a bit and start back at step 1. "
   ]
  },
  {
   "cell_type": "code",
   "execution_count": null,
   "metadata": {},
   "outputs": [],
   "source": [
    "Output = get_data(Batch_File)"
   ]
  },
  {
   "cell_type": "markdown",
   "metadata": {},
   "source": [
    "### Step 5: Saving the File. \n",
    "    Note: You may need to change the output file depending on your system, but it should work out of the box.\n",
    "          Please match the number in the file name to your batch number. "
   ]
  },
  {
   "cell_type": "code",
   "execution_count": null,
   "metadata": {},
   "outputs": [],
   "source": [
    "# Please change the number in the file name to correspond to your batch number. \n",
    "# Your batch number is in the input file name as well. \n",
    "\n",
    "Output.to_csv('./batch_1_data.csv')"
   ]
  },
  {
   "cell_type": "markdown",
   "metadata": {},
   "source": [
    "# Done! Please Put The Output File Into Google Drive. "
   ]
  },
  {
   "cell_type": "markdown",
   "metadata": {},
   "source": [
    "# -----------------------------------------------------------------------------------------"
   ]
  },
  {
   "cell_type": "markdown",
   "metadata": {},
   "source": [
    "# Ignore This Code"
   ]
  },
  {
   "cell_type": "markdown",
   "metadata": {},
   "source": [
    "#### Creating Artist URI Batches"
   ]
  },
  {
   "cell_type": "code",
   "execution_count": null,
   "metadata": {},
   "outputs": [],
   "source": [
    "Input_Data = pd.read_csv('../data/2021.01.09 spotify_us_all_fe.csv')\n",
    "\n",
    "artist_set = pd.DataFrame(Input_Data['Artist URI'].unique())\n",
    "\n",
    "artist_set[0:140].to_csv('../data/batches/batch_1.csv')\n",
    "artist_set[140:280].to_csv('../data/batches/batch_2.csv')\n",
    "artist_set[280:420].to_csv('../data/batches/batch_3.csv')\n",
    "artist_set[420:560].to_csv('../data/batches/batch_4.csv')\n",
    "artist_set[560:700].to_csv('../data/batches/batch_5.csv')\n",
    "artist_set[700:840].to_csv('../data/batches/batch_6.csv')\n",
    "artist_set[840:980].to_csv('../data/batches/batch_7.csv')\n",
    "artist_set[980:1120].to_csv('../data/batches/batch_8.csv')\n",
    "artist_set[1120:1260].to_csv('../data/batches/batch_9.csv')\n",
    "artist_set[1260:1400].to_csv('../data/batches/batch_10.csv')\n",
    "artist_set[1400:1540].to_csv('../data/batches/batch_11.csv')\n",
    "artist_set[1540:].to_csv('../data/batches/batch_12.csv')\n",
    "\n"
   ]
  },
  {
   "cell_type": "markdown",
   "metadata": {},
   "source": [
    "#### Merging Output Files"
   ]
  },
  {
   "cell_type": "code",
   "execution_count": null,
   "metadata": {},
   "outputs": [],
   "source": []
  }
 ],
 "metadata": {
  "kernelspec": {
   "display_name": "Python 3",
   "language": "python",
   "name": "python3"
  },
  "language_info": {
   "codemirror_mode": {
    "name": "ipython",
    "version": 3
   },
   "file_extension": ".py",
   "mimetype": "text/x-python",
   "name": "python",
   "nbconvert_exporter": "python",
   "pygments_lexer": "ipython3",
   "version": "3.8.5"
  }
 },
 "nbformat": 4,
 "nbformat_minor": 4
}
